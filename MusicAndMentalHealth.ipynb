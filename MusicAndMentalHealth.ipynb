{
 "cells": [
  {
   "cell_type": "markdown",
   "id": "6e5c293f-56de-4b1f-96bb-f78323060e98",
   "metadata": {},
   "source": [
    "# Analysing & Visualising Data on Music Taste and Self-Reported Mental Health"
   ]
  },
  {
   "cell_type": "markdown",
   "id": "a63b7dc4-cb30-4bc1-9521-fc8b8ae74c56",
   "metadata": {},
   "source": [
    "## Loading and Exploring the Dataset"
   ]
  },
  {
   "cell_type": "markdown",
   "id": "fa56853e-0047-4e07-9312-24368d9c3d14",
   "metadata": {},
   "source": [
    "This project aims to explore the ['Music & Mental Health Survey Results'](https://www.kaggle.com/datasets/catherinerasgaitis/mxmh-survey-results/data) dataset collected by Catherine Rasgaitis. This data contains information from a survey in which participants answered questions about their musical taste, listening habits, and mental health. \n",
    "\n",
    "For instance, \n",
    "- Participants rated how often they experience anxiety from a scale of 0 ('I do not experience this') to 10 ('I experience this regularly, constantly/or to an extreme').\n",
    "- Participants also rated how often they listen to different music genres ('Never', 'Rarely', 'Sometimes', 'Very frequently'). "
   ]
  },
  {
   "cell_type": "code",
   "execution_count": 1,
   "id": "0644bc1f-16e2-48f0-943a-f6ff69f29815",
   "metadata": {},
   "outputs": [],
   "source": [
    "# Import relevant libraries for data visualisation and analysis\n",
    "import numpy as np\n",
    "import pandas as pd\n",
    "import matplotlib.pyplot as plt"
   ]
  },
  {
   "cell_type": "code",
   "execution_count": 2,
   "id": "18425d30-f709-407e-b262-f34bf9985aff",
   "metadata": {},
   "outputs": [
    {
     "data": {
      "text/html": [
       "<div>\n",
       "<style scoped>\n",
       "    .dataframe tbody tr th:only-of-type {\n",
       "        vertical-align: middle;\n",
       "    }\n",
       "\n",
       "    .dataframe tbody tr th {\n",
       "        vertical-align: top;\n",
       "    }\n",
       "\n",
       "    .dataframe thead th {\n",
       "        text-align: right;\n",
       "    }\n",
       "</style>\n",
       "<table border=\"1\" class=\"dataframe\">\n",
       "  <thead>\n",
       "    <tr style=\"text-align: right;\">\n",
       "      <th></th>\n",
       "      <th>Timestamp</th>\n",
       "      <th>Age</th>\n",
       "      <th>Primary streaming service</th>\n",
       "      <th>Hours per day</th>\n",
       "      <th>While working</th>\n",
       "      <th>Instrumentalist</th>\n",
       "      <th>Composer</th>\n",
       "      <th>Fav genre</th>\n",
       "      <th>Exploratory</th>\n",
       "      <th>Foreign languages</th>\n",
       "      <th>...</th>\n",
       "      <th>Frequency [R&amp;B]</th>\n",
       "      <th>Frequency [Rap]</th>\n",
       "      <th>Frequency [Rock]</th>\n",
       "      <th>Frequency [Video game music]</th>\n",
       "      <th>Anxiety</th>\n",
       "      <th>Depression</th>\n",
       "      <th>Insomnia</th>\n",
       "      <th>OCD</th>\n",
       "      <th>Music effects</th>\n",
       "      <th>Permissions</th>\n",
       "    </tr>\n",
       "  </thead>\n",
       "  <tbody>\n",
       "    <tr>\n",
       "      <th>0</th>\n",
       "      <td>8/27/2022 19:29:02</td>\n",
       "      <td>18.0</td>\n",
       "      <td>Spotify</td>\n",
       "      <td>3.0</td>\n",
       "      <td>Yes</td>\n",
       "      <td>Yes</td>\n",
       "      <td>Yes</td>\n",
       "      <td>Latin</td>\n",
       "      <td>Yes</td>\n",
       "      <td>Yes</td>\n",
       "      <td>...</td>\n",
       "      <td>Sometimes</td>\n",
       "      <td>Very frequently</td>\n",
       "      <td>Never</td>\n",
       "      <td>Sometimes</td>\n",
       "      <td>3.0</td>\n",
       "      <td>0.0</td>\n",
       "      <td>1.0</td>\n",
       "      <td>0.0</td>\n",
       "      <td>NaN</td>\n",
       "      <td>I understand.</td>\n",
       "    </tr>\n",
       "    <tr>\n",
       "      <th>1</th>\n",
       "      <td>8/27/2022 19:57:31</td>\n",
       "      <td>63.0</td>\n",
       "      <td>Pandora</td>\n",
       "      <td>1.5</td>\n",
       "      <td>Yes</td>\n",
       "      <td>No</td>\n",
       "      <td>No</td>\n",
       "      <td>Rock</td>\n",
       "      <td>Yes</td>\n",
       "      <td>No</td>\n",
       "      <td>...</td>\n",
       "      <td>Sometimes</td>\n",
       "      <td>Rarely</td>\n",
       "      <td>Very frequently</td>\n",
       "      <td>Rarely</td>\n",
       "      <td>7.0</td>\n",
       "      <td>2.0</td>\n",
       "      <td>2.0</td>\n",
       "      <td>1.0</td>\n",
       "      <td>NaN</td>\n",
       "      <td>I understand.</td>\n",
       "    </tr>\n",
       "    <tr>\n",
       "      <th>2</th>\n",
       "      <td>8/27/2022 21:28:18</td>\n",
       "      <td>18.0</td>\n",
       "      <td>Spotify</td>\n",
       "      <td>4.0</td>\n",
       "      <td>No</td>\n",
       "      <td>No</td>\n",
       "      <td>No</td>\n",
       "      <td>Video game music</td>\n",
       "      <td>No</td>\n",
       "      <td>Yes</td>\n",
       "      <td>...</td>\n",
       "      <td>Never</td>\n",
       "      <td>Rarely</td>\n",
       "      <td>Rarely</td>\n",
       "      <td>Very frequently</td>\n",
       "      <td>7.0</td>\n",
       "      <td>7.0</td>\n",
       "      <td>10.0</td>\n",
       "      <td>2.0</td>\n",
       "      <td>No effect</td>\n",
       "      <td>I understand.</td>\n",
       "    </tr>\n",
       "    <tr>\n",
       "      <th>3</th>\n",
       "      <td>8/27/2022 21:40:40</td>\n",
       "      <td>61.0</td>\n",
       "      <td>YouTube Music</td>\n",
       "      <td>2.5</td>\n",
       "      <td>Yes</td>\n",
       "      <td>No</td>\n",
       "      <td>Yes</td>\n",
       "      <td>Jazz</td>\n",
       "      <td>Yes</td>\n",
       "      <td>Yes</td>\n",
       "      <td>...</td>\n",
       "      <td>Sometimes</td>\n",
       "      <td>Never</td>\n",
       "      <td>Never</td>\n",
       "      <td>Never</td>\n",
       "      <td>9.0</td>\n",
       "      <td>7.0</td>\n",
       "      <td>3.0</td>\n",
       "      <td>3.0</td>\n",
       "      <td>Improve</td>\n",
       "      <td>I understand.</td>\n",
       "    </tr>\n",
       "    <tr>\n",
       "      <th>4</th>\n",
       "      <td>8/27/2022 21:54:47</td>\n",
       "      <td>18.0</td>\n",
       "      <td>Spotify</td>\n",
       "      <td>4.0</td>\n",
       "      <td>Yes</td>\n",
       "      <td>No</td>\n",
       "      <td>No</td>\n",
       "      <td>R&amp;B</td>\n",
       "      <td>Yes</td>\n",
       "      <td>No</td>\n",
       "      <td>...</td>\n",
       "      <td>Very frequently</td>\n",
       "      <td>Very frequently</td>\n",
       "      <td>Never</td>\n",
       "      <td>Rarely</td>\n",
       "      <td>7.0</td>\n",
       "      <td>2.0</td>\n",
       "      <td>5.0</td>\n",
       "      <td>9.0</td>\n",
       "      <td>Improve</td>\n",
       "      <td>I understand.</td>\n",
       "    </tr>\n",
       "  </tbody>\n",
       "</table>\n",
       "<p>5 rows × 33 columns</p>\n",
       "</div>"
      ],
      "text/plain": [
       "            Timestamp   Age Primary streaming service  Hours per day  \\\n",
       "0  8/27/2022 19:29:02  18.0                   Spotify            3.0   \n",
       "1  8/27/2022 19:57:31  63.0                   Pandora            1.5   \n",
       "2  8/27/2022 21:28:18  18.0                   Spotify            4.0   \n",
       "3  8/27/2022 21:40:40  61.0             YouTube Music            2.5   \n",
       "4  8/27/2022 21:54:47  18.0                   Spotify            4.0   \n",
       "\n",
       "  While working Instrumentalist Composer         Fav genre Exploratory  \\\n",
       "0           Yes             Yes      Yes             Latin         Yes   \n",
       "1           Yes              No       No              Rock         Yes   \n",
       "2            No              No       No  Video game music          No   \n",
       "3           Yes              No      Yes              Jazz         Yes   \n",
       "4           Yes              No       No               R&B         Yes   \n",
       "\n",
       "  Foreign languages  ...  Frequency [R&B]  Frequency [Rap] Frequency [Rock]  \\\n",
       "0               Yes  ...        Sometimes  Very frequently            Never   \n",
       "1                No  ...        Sometimes           Rarely  Very frequently   \n",
       "2               Yes  ...            Never           Rarely           Rarely   \n",
       "3               Yes  ...        Sometimes            Never            Never   \n",
       "4                No  ...  Very frequently  Very frequently            Never   \n",
       "\n",
       "  Frequency [Video game music] Anxiety Depression Insomnia  OCD Music effects  \\\n",
       "0                    Sometimes     3.0        0.0      1.0  0.0           NaN   \n",
       "1                       Rarely     7.0        2.0      2.0  1.0           NaN   \n",
       "2              Very frequently     7.0        7.0     10.0  2.0     No effect   \n",
       "3                        Never     9.0        7.0      3.0  3.0       Improve   \n",
       "4                       Rarely     7.0        2.0      5.0  9.0       Improve   \n",
       "\n",
       "     Permissions  \n",
       "0  I understand.  \n",
       "1  I understand.  \n",
       "2  I understand.  \n",
       "3  I understand.  \n",
       "4  I understand.  \n",
       "\n",
       "[5 rows x 33 columns]"
      ]
     },
     "execution_count": 2,
     "metadata": {},
     "output_type": "execute_result"
    }
   ],
   "source": [
    "# We can import the dataset as a DataFrame\n",
    "music_and_health_df = pd.read_csv('music_and_health_data.csv')\n",
    "music_and_health_df.head()"
   ]
  },
  {
   "cell_type": "markdown",
   "id": "75900e88-906c-4e87-85bd-2a08a3b18e3b",
   "metadata": {},
   "source": [
    "From the author's comments, we can briefly note, for clarity, that meanings of the some fields in our data that may not be immediately clear:\n",
    "- **'Instrumentalist'** and **'Composer'**: These refer to whether the participant plays/composes music regularly. (For the future, I would think 'regularly' would need to be more clearly defined). Responses are either 'Yes' or 'No'.\n",
    "- **'Exploratory'**: Whether the respondent actively explore new artists/genres. Responses are either 'Yes' or 'No'.\n",
    "- **'Foreign Languages'**: Does the respondent actively explore music with lyrics in a language that they are not fluent in. Responses are either 'Yes' or 'No'.\n",
    "- **'Music Effect'**: This refers to participant responses to the question 'Does music improve/worsen respondent's mental health conditions?' Responses are either 'No effect', 'Improve' or 'Worsen'. This was opt\n",
    "- **Hours per day**: How many hours a day a participant listens to music.\n",
    "- **BPM**: This refers to the preferred beats per minute of the favorite genre. This was optional. \n",
    "\n",
    "For this analysis, we can see that some columns that will not be useful (Timestamp, Permissions) so we can remove them."
   ]
  },
  {
   "cell_type": "code",
   "execution_count": 6,
   "id": "f5d880bc-14d3-48f7-8505-077269c2b1d9",
   "metadata": {},
   "outputs": [
    {
     "data": {
      "text/html": [
       "<div>\n",
       "<style scoped>\n",
       "    .dataframe tbody tr th:only-of-type {\n",
       "        vertical-align: middle;\n",
       "    }\n",
       "\n",
       "    .dataframe tbody tr th {\n",
       "        vertical-align: top;\n",
       "    }\n",
       "\n",
       "    .dataframe thead th {\n",
       "        text-align: right;\n",
       "    }\n",
       "</style>\n",
       "<table border=\"1\" class=\"dataframe\">\n",
       "  <thead>\n",
       "    <tr style=\"text-align: right;\">\n",
       "      <th></th>\n",
       "      <th>Age</th>\n",
       "      <th>Primary streaming service</th>\n",
       "      <th>Hours per day</th>\n",
       "      <th>While working</th>\n",
       "      <th>Instrumentalist</th>\n",
       "      <th>Composer</th>\n",
       "      <th>Fav genre</th>\n",
       "      <th>Exploratory</th>\n",
       "      <th>Foreign languages</th>\n",
       "      <th>BPM</th>\n",
       "      <th>...</th>\n",
       "      <th>Frequency [Pop]</th>\n",
       "      <th>Frequency [R&amp;B]</th>\n",
       "      <th>Frequency [Rap]</th>\n",
       "      <th>Frequency [Rock]</th>\n",
       "      <th>Frequency [Video game music]</th>\n",
       "      <th>Anxiety</th>\n",
       "      <th>Depression</th>\n",
       "      <th>Insomnia</th>\n",
       "      <th>OCD</th>\n",
       "      <th>Music effects</th>\n",
       "    </tr>\n",
       "  </thead>\n",
       "  <tbody>\n",
       "    <tr>\n",
       "      <th>0</th>\n",
       "      <td>18.0</td>\n",
       "      <td>Spotify</td>\n",
       "      <td>3.0</td>\n",
       "      <td>Yes</td>\n",
       "      <td>Yes</td>\n",
       "      <td>Yes</td>\n",
       "      <td>Latin</td>\n",
       "      <td>Yes</td>\n",
       "      <td>Yes</td>\n",
       "      <td>156.0</td>\n",
       "      <td>...</td>\n",
       "      <td>Very frequently</td>\n",
       "      <td>Sometimes</td>\n",
       "      <td>Very frequently</td>\n",
       "      <td>Never</td>\n",
       "      <td>Sometimes</td>\n",
       "      <td>3.0</td>\n",
       "      <td>0.0</td>\n",
       "      <td>1.0</td>\n",
       "      <td>0.0</td>\n",
       "      <td>NaN</td>\n",
       "    </tr>\n",
       "    <tr>\n",
       "      <th>1</th>\n",
       "      <td>63.0</td>\n",
       "      <td>Pandora</td>\n",
       "      <td>1.5</td>\n",
       "      <td>Yes</td>\n",
       "      <td>No</td>\n",
       "      <td>No</td>\n",
       "      <td>Rock</td>\n",
       "      <td>Yes</td>\n",
       "      <td>No</td>\n",
       "      <td>119.0</td>\n",
       "      <td>...</td>\n",
       "      <td>Sometimes</td>\n",
       "      <td>Sometimes</td>\n",
       "      <td>Rarely</td>\n",
       "      <td>Very frequently</td>\n",
       "      <td>Rarely</td>\n",
       "      <td>7.0</td>\n",
       "      <td>2.0</td>\n",
       "      <td>2.0</td>\n",
       "      <td>1.0</td>\n",
       "      <td>NaN</td>\n",
       "    </tr>\n",
       "    <tr>\n",
       "      <th>2</th>\n",
       "      <td>18.0</td>\n",
       "      <td>Spotify</td>\n",
       "      <td>4.0</td>\n",
       "      <td>No</td>\n",
       "      <td>No</td>\n",
       "      <td>No</td>\n",
       "      <td>Video game music</td>\n",
       "      <td>No</td>\n",
       "      <td>Yes</td>\n",
       "      <td>132.0</td>\n",
       "      <td>...</td>\n",
       "      <td>Rarely</td>\n",
       "      <td>Never</td>\n",
       "      <td>Rarely</td>\n",
       "      <td>Rarely</td>\n",
       "      <td>Very frequently</td>\n",
       "      <td>7.0</td>\n",
       "      <td>7.0</td>\n",
       "      <td>10.0</td>\n",
       "      <td>2.0</td>\n",
       "      <td>No effect</td>\n",
       "    </tr>\n",
       "    <tr>\n",
       "      <th>3</th>\n",
       "      <td>61.0</td>\n",
       "      <td>YouTube Music</td>\n",
       "      <td>2.5</td>\n",
       "      <td>Yes</td>\n",
       "      <td>No</td>\n",
       "      <td>Yes</td>\n",
       "      <td>Jazz</td>\n",
       "      <td>Yes</td>\n",
       "      <td>Yes</td>\n",
       "      <td>84.0</td>\n",
       "      <td>...</td>\n",
       "      <td>Sometimes</td>\n",
       "      <td>Sometimes</td>\n",
       "      <td>Never</td>\n",
       "      <td>Never</td>\n",
       "      <td>Never</td>\n",
       "      <td>9.0</td>\n",
       "      <td>7.0</td>\n",
       "      <td>3.0</td>\n",
       "      <td>3.0</td>\n",
       "      <td>Improve</td>\n",
       "    </tr>\n",
       "    <tr>\n",
       "      <th>4</th>\n",
       "      <td>18.0</td>\n",
       "      <td>Spotify</td>\n",
       "      <td>4.0</td>\n",
       "      <td>Yes</td>\n",
       "      <td>No</td>\n",
       "      <td>No</td>\n",
       "      <td>R&amp;B</td>\n",
       "      <td>Yes</td>\n",
       "      <td>No</td>\n",
       "      <td>107.0</td>\n",
       "      <td>...</td>\n",
       "      <td>Sometimes</td>\n",
       "      <td>Very frequently</td>\n",
       "      <td>Very frequently</td>\n",
       "      <td>Never</td>\n",
       "      <td>Rarely</td>\n",
       "      <td>7.0</td>\n",
       "      <td>2.0</td>\n",
       "      <td>5.0</td>\n",
       "      <td>9.0</td>\n",
       "      <td>Improve</td>\n",
       "    </tr>\n",
       "  </tbody>\n",
       "</table>\n",
       "<p>5 rows × 31 columns</p>\n",
       "</div>"
      ],
      "text/plain": [
       "    Age Primary streaming service  Hours per day While working  \\\n",
       "0  18.0                   Spotify            3.0           Yes   \n",
       "1  63.0                   Pandora            1.5           Yes   \n",
       "2  18.0                   Spotify            4.0            No   \n",
       "3  61.0             YouTube Music            2.5           Yes   \n",
       "4  18.0                   Spotify            4.0           Yes   \n",
       "\n",
       "  Instrumentalist Composer         Fav genre Exploratory Foreign languages  \\\n",
       "0             Yes      Yes             Latin         Yes               Yes   \n",
       "1              No       No              Rock         Yes                No   \n",
       "2              No       No  Video game music          No               Yes   \n",
       "3              No      Yes              Jazz         Yes               Yes   \n",
       "4              No       No               R&B         Yes                No   \n",
       "\n",
       "     BPM  ...  Frequency [Pop]  Frequency [R&B]  Frequency [Rap]  \\\n",
       "0  156.0  ...  Very frequently        Sometimes  Very frequently   \n",
       "1  119.0  ...        Sometimes        Sometimes           Rarely   \n",
       "2  132.0  ...           Rarely            Never           Rarely   \n",
       "3   84.0  ...        Sometimes        Sometimes            Never   \n",
       "4  107.0  ...        Sometimes  Very frequently  Very frequently   \n",
       "\n",
       "  Frequency [Rock] Frequency [Video game music] Anxiety Depression Insomnia  \\\n",
       "0            Never                    Sometimes     3.0        0.0      1.0   \n",
       "1  Very frequently                       Rarely     7.0        2.0      2.0   \n",
       "2           Rarely              Very frequently     7.0        7.0     10.0   \n",
       "3            Never                        Never     9.0        7.0      3.0   \n",
       "4            Never                       Rarely     7.0        2.0      5.0   \n",
       "\n",
       "   OCD Music effects  \n",
       "0  0.0           NaN  \n",
       "1  1.0           NaN  \n",
       "2  2.0     No effect  \n",
       "3  3.0       Improve  \n",
       "4  9.0       Improve  \n",
       "\n",
       "[5 rows x 31 columns]"
      ]
     },
     "execution_count": 6,
     "metadata": {},
     "output_type": "execute_result"
    }
   ],
   "source": [
    "music_and_health_df = music_and_health_df.drop(columns=['Timestamp', 'Permissions'])\n",
    "music_and_health_df.head()"
   ]
  },
  {
   "cell_type": "markdown",
   "id": "59d369d8-115c-4ac8-9a84-1db36dbc6987",
   "metadata": {},
   "source": [
    "### Participants (Age)"
   ]
  },
  {
   "cell_type": "markdown",
   "id": "01ab22c5-91cf-4b7e-b933-92a9f9c420d8",
   "metadata": {},
   "source": [
    "The participant responses were gathered through sharing the survey on reddit, discord, and social media, as well as some being gathered through posters advertised in libraries local to the author, who currently lives in Seattle (see the survey author's [personal page](https://crasgaitis.github.io/)). Collecting demographic information is often important for understanding the data, but here we can only see the age of each participant. Since no other demographic questions were asked in the survey, we can not gain any other insight into the communities we are looking at. \n",
    "\n",
    "The importance of demographic data is well documented and understood [[1](#References)]:\n",
    "* In many cases, we need to ensure our sample is representative of the actual population, i.e. is our sample accurately representing or 'is like' our actual population. We need this so that any insights and observations drawn from the data can be relied upon to reflect what is happening/what could happen in the population being studied. \n",
    "* Demographic data may support/highlight the insights we are seeing, and so may help provide an initial basis or angle for understanding results.\n",
    "\n",
    "Back to our dataset, let's explore the participant data in terms of age."
   ]
  },
  {
   "cell_type": "code",
   "execution_count": 10,
   "id": "9a85fe2c-4436-431f-8829-e3d074d3f53e",
   "metadata": {},
   "outputs": [
    {
     "name": "stdout",
     "output_type": "stream",
     "text": [
      "No. of Participants: 736\n",
      "No. of Participants who entered their age: 735\n",
      "No. of Participants who did not enter their age: 1\n"
     ]
    }
   ],
   "source": [
    "age_data = music_and_health_df['Age']\n",
    "\n",
    "# Check how many participants entered their age\n",
    "num_of_participants = len(music_and_health_df)\n",
    "num_of_age_submissions = age_data.notnull().sum()\n",
    "print(\"No. of Participants: \" + str(num_of_participants))\n",
    "print(\"No. of Participants who entered their age: \" + str(num_of_age_submissions))\n",
    "print(\"No. of Participants who did not enter their age: \" + str(num_of_participants - num_of_age_submissions))"
   ]
  },
  {
   "cell_type": "markdown",
   "id": "4a5a4ff5-4a17-4f5c-9b73-b57295f9c30f",
   "metadata": {},
   "source": [
    "We can see that only one participant chose not to enter their age. There are actually a few methods for dealing with missing data points. Usually, we either 1) remove the entire data point if the value is missing, or 2) data imputation, where we try to substitute a reasonable guess for the missing data or We could also simply carry out the analysis with the missing data (many statistical methods can handle missing data.\n",
    "\n",
    "The purpose of this exploration is to visualise the data gathered and draw some initial insights. The purpose here is focusing on data visualisation to draw insights, rather than carry out rigorous statistical analysis. Therefore, with this data point, and other missing data points for other fields, we will simply just not represent the point in the graph. \n",
    "\n",
    "Nevertheless, let us look at the distribution of the ages."
   ]
  },
  {
   "cell_type": "code",
   "execution_count": 13,
   "id": "e0e8401a-3662-4787-9d08-c43dd774f4a7",
   "metadata": {},
   "outputs": [
    {
     "data": {
      "image/png": "[encoded data removed]",
      "text/plain": [
       "<Figure size 1000x600 with 1 Axes>"
      ]
     },
     "metadata": {},
     "output_type": "display_data"
    }
   ],
   "source": [
    "# Create histogram using age_data\n",
    "plt.figure(figsize=(10,6))\n",
    "plt.hist(age_data, bins=range(0, 101, 5),color='thistle',edgecolor='black')\n",
    "\n",
    "# Add a title and labels, as well as the x-axis increment values\n",
    "plt.title('Distribution of Ages')\n",
    "plt.xlabel('Age (Years)')\n",
    "plt.ylabel('Frequency')\n",
    "plt.xticks(range(0, 100 + 10, 10))\n",
    "\n",
    "# Show the plot\n",
    "plt.show()"
   ]
  },
  {
   "cell_type": "markdown",
   "id": "e4c63b7a-e617-4956-9713-04ced24c5198",
   "metadata": {},
   "source": [
    "It is clear that a large majority of participants were between the ages of 10 and 30. We can see this by inspecting the data."
   ]
  },
  {
   "cell_type": "code",
   "execution_count": 16,
   "id": "1ec316d7-5cd0-4c90-9657-a15ac958d597",
   "metadata": {},
   "outputs": [
    {
     "name": "stdout",
     "output_type": "stream",
     "text": [
      "Considering those who reported their age (all but one participant):\n",
      "79.73% were aged between 10 and 30 (inclusive)\n"
     ]
    }
   ],
   "source": [
    "print(\"Considering those who reported their age (all but one participant):\")\n",
    "younger_adults_percentage = round((len(age_data[np.logical_and(age_data >= 10, age_data <=30)]) / num_of_age_submissions) * 100,2)\n",
    "print(str(younger_adults_percentage) + \"% were aged between 10 and 30 (inclusive)\")"
   ]
  },
  {
   "cell_type": "markdown",
   "id": "83baf3b9-5be1-4707-b3e3-51d9ce2652c8",
   "metadata": {},
   "source": [
    "## Music Taste"
   ]
  },
  {
   "cell_type": "markdown",
   "id": "faabfbfe-b683-439e-95d5-455ac4e37c90",
   "metadata": {},
   "source": [
    "We can now turn to explore the music tastes of the participants."
   ]
  },
  {
   "cell_type": "code",
   "execution_count": 20,
   "id": "dcefe74f-6fab-43bd-ae1b-367f045fc750",
   "metadata": {},
   "outputs": [
    {
     "name": "stdout",
     "output_type": "stream",
     "text": [
      "Fav genre\n",
      "Latin                 3\n",
      "Gospel                6\n",
      "Lofi                 10\n",
      "Jazz                 20\n",
      "Rap                  22\n",
      "Country              25\n",
      "K pop                26\n",
      "Folk                 30\n",
      "R&B                  35\n",
      "Hip hop              35\n",
      "EDM                  37\n",
      "Video game music     44\n",
      "Classical            53\n",
      "Metal                88\n",
      "Pop                 114\n",
      "Rock                188\n",
      "Name: count, dtype: int64\n",
      "<class 'pandas.core.series.Series'>\n"
     ]
    }
   ],
   "source": [
    "genre_counts = music_and_health_df['Fav genre'].value_counts(ascending = True)\n",
    "print(genre_counts)\n",
    "print(type(genre_counts))"
   ]
  },
  {
   "cell_type": "code",
   "execution_count": 22,
   "id": "2d8f7506-674c-4e42-95e4-775bdb30e6d6",
   "metadata": {},
   "outputs": [
    {
     "data": {
      "image/png": "[encoded data removed]",
      "text/plain": [
       "<Figure size 1000x600 with 1 Axes>"
      ]
     },
     "metadata": {},
     "output_type": "display_data"
    }
   ],
   "source": [
    "# We can represent this visually with a simple bar graph.\n",
    "music_genres = genre_counts.index.to_numpy()\n",
    "genre_counts = genre_counts.to_numpy()\n",
    "\n",
    "plt.figure(figsize=(10,6))\n",
    "plt.bar(music_genres, genre_counts, color='thistle', edgecolor='black')\n",
    "plt.xticks(rotation=45, ha='right')\n",
    "plt.title('Favourite Music Genres Amongst Participants')\n",
    "plt.xlabel('Music Genre')\n",
    "plt.ylabel('Favourite Genre Count')\n",
    "plt.show()"
   ]
  },
  {
   "cell_type": "markdown",
   "id": "0f727f06-443e-451e-a114-b0f5566d0467",
   "metadata": {},
   "source": [
    "So, it seems that Rock was the most commonly preferred genre of music amongst the participants. This is nice to see, but it would be nice to explore possible relationships between age of participants and music taste to see, for example, if there are any music genres that are more popular with respect to particular age groups. \n",
    "\n",
    "We could try to visualise both grouped bar charts and stacked bar charts to gain insight into the relationship between age and preferred music genre. Of course, most participants are between the age of 10-30, and so a deeper dive would require more data. <br> "
   ]
  },
  {
   "cell_type": "markdown",
   "id": "54f26e49-bf3f-4f55-a87c-7237d9b5df2a",
   "metadata": {},
   "source": [
    "## Distribution of Preferred Music Tase Across Age Groups"
   ]
  },
  {
   "cell_type": "markdown",
   "id": "39f2dfd7-1650-42a6-afb7-f936d9af9aae",
   "metadata": {},
   "source": [
    "As mentioned above, we can try and use a grouped bar chart to explore the most popular music genres amongst different age groups.\n",
    "\n",
    "To quickly cover a grouped bar chart: this type of chart extends the normal bar chart, where we plotting numeric values for levels of multiple categorical variables instead of one. So, in our case, for each music genre we could show multiple bars that each represent a specific age rage. Enough talking, let's write some code!"
   ]
  },
  {
   "cell_type": "code",
   "execution_count": null,
   "id": "23adc055-3036-474a-8a5c-8003b624a54c",
   "metadata": {},
   "outputs": [],
   "source": []
  },
  {
   "cell_type": "markdown",
   "id": "7a5f7595-5fc0-458e-bc07-fe720c398c6c",
   "metadata": {},
   "source": [
    "# References"
   ]
  },
  {
   "cell_type": "markdown",
   "id": "a1a31ff0-1b43-4a6c-8965-8be5e45bcc5e",
   "metadata": {},
   "source": [
    "\\[1] [The Importance of Demographic Data, Dr. Rashawn Ray](https://www.brookings.edu/wp-content/uploads/2020/01/1.15.20_Congressional-Testimony_Ray_Rashawn.pdf) <br>\n",
    "\\[2] "
   ]
  },
  {
   "cell_type": "code",
   "execution_count": null,
   "id": "b2c36fa0-a408-48f0-ab03-e3f53230c292",
   "metadata": {},
   "outputs": [],
   "source": []
  },
  {
   "cell_type": "code",
   "execution_count": null,
   "id": "bdfdcacb-6090-4e57-b983-f34848c4c3eb",
   "metadata": {},
   "outputs": [],
   "source": []
  },
  {
   "cell_type": "code",
   "execution_count": null,
   "id": "15ce3a80-5e7b-4143-8c4a-a3c8a5a66120",
   "metadata": {},
   "outputs": [],
   "source": []
  },
  {
   "cell_type": "code",
   "execution_count": null,
   "id": "99b07ebe-5856-42e8-a97d-b94d561e6c6d",
   "metadata": {},
   "outputs": [],
   "source": []
  },
  {
   "cell_type": "code",
   "execution_count": null,
   "id": "5be3786d-cb6e-467f-91cc-58c6fae86bbc",
   "metadata": {},
   "outputs": [],
   "source": []
  },
  {
   "cell_type": "code",
   "execution_count": null,
   "id": "c07491b5-5360-4217-be22-32502110860e",
   "metadata": {},
   "outputs": [],
   "source": []
  },
  {
   "cell_type": "code",
   "execution_count": null,
   "id": "b69f85cb-258b-43ca-8817-322087cf6820",
   "metadata": {},
   "outputs": [],
   "source": []
  },
  {
   "cell_type": "code",
   "execution_count": null,
   "id": "b08dc4e5-1e4f-4c19-8857-ed4f44196d54",
   "metadata": {},
   "outputs": [],
   "source": []
  },
  {
   "cell_type": "code",
   "execution_count": null,
   "id": "5acfd1cb-4b8e-4a6f-8400-72cae8830360",
   "metadata": {},
   "outputs": [],
   "source": []
  },
  {
   "cell_type": "code",
   "execution_count": null,
   "id": "c70a60e8-52ef-4efd-8319-1a517f9658c8",
   "metadata": {},
   "outputs": [],
   "source": []
  },
  {
   "cell_type": "code",
   "execution_count": null,
   "id": "347fc492-c3e2-4965-8d71-079de7837be4",
   "metadata": {},
   "outputs": [],
   "source": []
  }
 ],
 "metadata": {
  "kernelspec": {
   "display_name": "Python 3 (ipykernel)",
   "language": "python",
   "name": "python3"
  },
  "language_info": {
   "codemirror_mode": {
    "name": "ipython",
    "version": 3
   },
   "file_extension": ".py",
   "mimetype": "text/x-python",
   "name": "python",
   "nbconvert_exporter": "python",
   "pygments_lexer": "ipython3",
   "version": "3.12.4"
  }
 },
 "nbformat": 4,
 "nbformat_minor": 5
}
